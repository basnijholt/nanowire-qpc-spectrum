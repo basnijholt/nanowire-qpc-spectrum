{
 "cells": [
  {
   "cell_type": "markdown",
   "metadata": {},
   "source": [
    "# QPC nanowire spectrum"
   ]
  },
  {
   "cell_type": "code",
   "execution_count": null,
   "metadata": {},
   "outputs": [],
   "source": [
    "from functools import partial\n",
    "\n",
    "import adaptive\n",
    "import kwant\n",
    "import numpy as np\n",
    "import sympy\n",
    "\n",
    "import common\n",
    "import funcs\n",
    "\n",
    "adaptive.notebook_extension()\n",
    "sympy.init_printing()"
   ]
  },
  {
   "cell_type": "markdown",
   "metadata": {},
   "source": [
    "# Hamiltonian"
   ]
  },
  {
   "cell_type": "code",
   "execution_count": null,
   "metadata": {},
   "outputs": [],
   "source": [
    "funcs.get_sympy_hamiltonian({}, 2)"
   ]
  },
  {
   "cell_type": "markdown",
   "metadata": {},
   "source": [
    "# Band structure example"
   ]
  },
  {
   "cell_type": "code",
   "execution_count": null,
   "metadata": {},
   "outputs": [],
   "source": [
    "import matplotlib.pyplot\n",
    "syst = funcs.make_wire(a=10, r=50, shape='hexagon', dim=3)"
   ]
  },
  {
   "cell_type": "code",
   "execution_count": null,
   "metadata": {},
   "outputs": [],
   "source": [
    "params = dict(alpha=0, mu=0, g=50, B_x=0, B_y=0, B_z=0, **funcs.constants)\n",
    "# params['exp'] = lambda x: 1  # Uncomment this to disable the orbital effect\n",
    "ham = syst.hamiltonian_submatrix(params=params)"
   ]
  },
  {
   "cell_type": "code",
   "execution_count": null,
   "metadata": {},
   "outputs": [],
   "source": [
    "kwant.plotter.bands(syst, params=params, show=False, fig_size=(12, 6));\n",
    "matplotlib.pyplot.ylim(-.1, 100);"
   ]
  },
  {
   "cell_type": "markdown",
   "metadata": {},
   "source": [
    "# Calculate spectrum"
   ]
  },
  {
   "cell_type": "code",
   "execution_count": null,
   "metadata": {},
   "outputs": [],
   "source": [
    "def minimize_wrap(x, key, lead_pars, params, band_num):\n",
    "    import funcs\n",
    "    from scipy.optimize import minimize_scalar\n",
    "    lead = funcs.make_wire(**lead_pars)\n",
    "    params[key] = x\n",
    "    params = {**params, **funcs.constants}\n",
    "    bands = lambda k, band_num: kwant.physics.Bands(lead, params=params)(k=k)[band_num]\n",
    "    return minimize_scalar(bands, tol=1e-3, args=(band_num)).fun"
   ]
  },
  {
   "cell_type": "code",
   "execution_count": null,
   "metadata": {},
   "outputs": [],
   "source": [
    "lead_pars = dict(a=10, r=50, shape='hexagon', dim=3)\n",
    "params = dict(alpha=0, mu=0, g=50, B_x=0, B_y=0, B_z=0)\n",
    "learners = []\n",
    "for band_num in range(8):\n",
    "    learner = adaptive.Learner1D(partial(minimize_wrap, key='B_x', lead_pars=lead_pars, params=params, band_num=band_num), (0, 2))\n",
    "    learners.append(learner)\n",
    "learner = adaptive.BalancingLearner(learners)\n",
    "runner = adaptive.Runner(learner, goal=lambda l: l.loss() < 0.01)"
   ]
  },
  {
   "cell_type": "code",
   "execution_count": null,
   "metadata": {},
   "outputs": [],
   "source": [
    "runner.live_info()"
   ]
  },
  {
   "cell_type": "code",
   "execution_count": null,
   "metadata": {},
   "outputs": [],
   "source": [
    "plotter = lambda learner: learner.plot().overlay().redim(x='B_x', y='E')\n",
    "runner.live_plot(plotter=plotter, update_interval=10)"
   ]
  }
 ],
 "metadata": {
  "language_info": {
   "name": "python",
   "pygments_lexer": "ipython3"
  }
 },
 "nbformat": 4,
 "nbformat_minor": 2
}
