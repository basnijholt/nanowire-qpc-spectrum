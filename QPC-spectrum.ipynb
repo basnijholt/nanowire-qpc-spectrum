{
 "cells": [
  {
   "cell_type": "markdown",
   "metadata": {},
   "source": [
    "# QPC nanowire spectrum"
   ]
  },
  {
   "cell_type": "code",
   "execution_count": null,
   "metadata": {},
   "outputs": [],
   "source": [
    "from functools import partial\n",
    "\n",
    "import adaptive\n",
    "import kwant\n",
    "import numpy as np\n",
    "import sympy\n",
    "\n",
    "import common\n",
    "import funcs\n",
    "\n",
    "adaptive.notebook_extension()\n",
    "sympy.init_printing()"
   ]
  },
  {
   "cell_type": "markdown",
   "metadata": {},
   "source": [
    "# Hamiltonian"
   ]
  },
  {
   "cell_type": "code",
   "execution_count": null,
   "metadata": {},
   "outputs": [],
   "source": [
    "funcs.get_sympy_hamiltonian({}, 2)"
   ]
  },
  {
   "cell_type": "markdown",
   "metadata": {},
   "source": [
    "# Band structure example"
   ]
  },
  {
   "cell_type": "code",
   "execution_count": null,
   "metadata": {},
   "outputs": [],
   "source": [
    "import matplotlib.pyplot\n",
    "syst = funcs.make_wire(a=10, r=50, shape='hexagon', dim=3)"
   ]
  },
  {
   "cell_type": "code",
   "execution_count": null,
   "metadata": {},
   "outputs": [],
   "source": [
    "params = dict(alpha=0, mu=0, g=50, B_x=0, B_y=0, B_z=0, **funcs.constants)\n",
    "# params['exp'] = lambda x: 1  # Uncomment this to disable the orbital effect\n",
    "ham = syst.hamiltonian_submatrix(params=params)"
   ]
  },
  {
   "cell_type": "code",
   "execution_count": null,
   "metadata": {},
   "outputs": [],
   "source": [
    "kwant.plotter.bands(syst, params=params, show=False, fig_size=(12, 6));\n",
    "matplotlib.pyplot.ylim(-.1, 100);"
   ]
  },
  {
   "cell_type": "markdown",
   "metadata": {},
   "source": [
    "# Calculate spectrum"
   ]
  },
  {
   "cell_type": "code",
   "execution_count": null,
   "metadata": {},
   "outputs": [],
   "source": [
    "def minimize_wrap(x, key, lead_pars, params, band_num):\n",
    "    import funcs\n",
    "    from scipy.optimize import minimize_scalar\n",
    "    lead = funcs.make_wire(**lead_pars)\n",
    "    params[key] = x\n",
    "    params = {**params, **funcs.constants}\n",
    "    bands = lambda k, band_num: kwant.physics.Bands(lead, params=params)(k=k)[band_num]\n",
    "    return minimize_scalar(bands, tol=1e-3, args=(band_num)).fun"
   ]
  },
  {
   "cell_type": "code",
   "execution_count": null,
   "metadata": {},
   "outputs": [],
   "source": [
    "lead_pars = dict(a=10, r=50, shape='hexagon', dim=3)\n",
    "params = dict(alpha=0, mu=0, g=50, B_x=0, B_y=0, B_z=0)\n",
    "learners = []\n",
    "for band_num in range(8):\n",
    "    learner = adaptive.Learner1D(partial(minimize_wrap, key='B_x', lead_pars=lead_pars, params=params, band_num=band_num), (0, 2))\n",
    "    learners.append(learner)\n",
    "learner = adaptive.BalancingLearner(learners)\n",
    "runner = adaptive.Runner(learner, goal=lambda l: l.loss() < 0.01)"
   ]
  },
  {
   "cell_type": "code",
   "execution_count": null,
   "metadata": {},
   "outputs": [],
   "source": [
    "runner.live_info()"
   ]
  },
  {
   "cell_type": "code",
   "execution_count": null,
   "metadata": {},
   "outputs": [],
   "source": [
    "plotter = lambda learner: learner.plot().overlay().redim(x='B_x', y='E')\n",
    "runner.live_plot(plotter=plotter, update_interval=10)"
   ]
  },
  {
   "cell_type": "markdown",
   "metadata": {},
   "source": [
    "# Wavefunction"
   ]
  },
  {
   "cell_type": "code",
   "execution_count": null,
   "metadata": {},
   "outputs": [],
   "source": [
    "import holoviews as hv\n",
    "def lat_from_syst(syst):\n",
    "    lats = set(s.family for s in syst.sites)\n",
    "    if len(lats) > 1:\n",
    "        raise Exception('No unique lattice in the system.')\n",
    "    return list(lats)[0]\n",
    "\n",
    "\n",
    "def get_cross_section(syst, pos, direction):\n",
    "    coord = np.array([s.pos for s in syst.sites if s.pos[direction] == pos])\n",
    "    cross_section = np.delete(coord, direction, 1)\n",
    "    return cross_section\n",
    "\n",
    "\n",
    "def get_densities(lead, k, params):\n",
    "    xy = get_cross_section(lead, pos=0, direction=0)\n",
    "    h, t = lead.cell_hamiltonian(params=params), lead.inter_cell_hopping(params=params)\n",
    "    h_k = h + t * np.exp(1j * k) + t.T.conj() * np.exp(-1j * k)\n",
    "\n",
    "    vals, vecs = np.linalg.eigh(h_k)\n",
    "    indxs = np.argsort(np.abs(vals))\n",
    "    vecs = vecs[:, indxs]\n",
    "    vals = vals[indxs]\n",
    "\n",
    "    norbs = lat_from_syst(lead).norbs\n",
    "    densities = np.linalg.norm(vecs.reshape(-1, norbs, len(vecs)), axis=1)**2\n",
    "    return xy, vals, densities.T\n",
    "\n",
    "\n",
    "def plot_wfs_in_cross_section(lead, params, k, num_bands=40):\n",
    "    xy, energies, densities = get_densities(lead, k, params)\n",
    "    wfs = [kwant.plotter.mask_interpolate(xy, density, oversampling=1)[0]\n",
    "           for density in densities[:num_bands]]\n",
    "    ims = {E: hv.Image(wf) for E, wf in zip(energies, wfs)}\n",
    "    return hv.HoloMap(ims, kdims=[hv.Dimension('E', unit='meV')])\n",
    "\n",
    "plot_wfs_in_cross_section(syst, params, k=0)"
   ]
  }
 ],
 "metadata": {
  "language_info": {
   "name": "python",
   "pygments_lexer": "ipython3"
  }
 },
 "nbformat": 4,
 "nbformat_minor": 2
}
